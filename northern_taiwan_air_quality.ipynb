{
  "metadata": {
    "kernelspec": {
      "language": "python",
      "display_name": "Python 3",
      "name": "python3"
    },
    "language_info": {
      "pygments_lexer": "ipython3",
      "nbconvert_exporter": "python",
      "version": "3.6.4",
      "file_extension": ".py",
      "codemirror_mode": {
        "name": "ipython",
        "version": 3
      },
      "name": "python",
      "mimetype": "text/x-python"
    },
    "colab": {
      "provenance": [],
      "include_colab_link": true
    }
  },
  "nbformat_minor": 0,
  "nbformat": 4,
  "cells": [
    {
      "cell_type": "markdown",
      "metadata": {
        "id": "view-in-github",
        "colab_type": "text"
      },
      "source": [
        "<a href=\"https://colab.research.google.com/github/DARKESTX/Analyze/blob/main/northern_taiwan_air_quality.ipynb\" target=\"_parent\"><img src=\"https://colab.research.google.com/assets/colab-badge.svg\" alt=\"Open In Colab\"/></a>"
      ]
    },
    {
      "cell_type": "code",
      "source": [
        "import numpy as np\n",
        "import pandas as pd\n",
        "import os\n",
        "import warnings\n",
        "import matplotlib.pyplot as plt\n",
        "import math\n",
        "%matplotlib inline\n",
        "warnings.filterwarnings('ignore')"
      ],
      "metadata": {
        "_uuid": "8f2839f25d086af736a60e9eeb907d3b93b6e0e5",
        "_cell_guid": "b1076dfc-b9ad-4769-8c92-a6c4dae69d19",
        "execution": {
          "iopub.status.busy": "2022-07-20T07:39:27.166036Z",
          "iopub.execute_input": "2022-07-20T07:39:27.16652Z",
          "iopub.status.idle": "2022-07-20T07:39:27.199523Z",
          "shell.execute_reply.started": "2022-07-20T07:39:27.166419Z",
          "shell.execute_reply": "2022-07-20T07:39:27.198316Z"
        },
        "trusted": true,
        "id": "icqWXyymJZku"
      },
      "execution_count": null,
      "outputs": []
    },
    {
      "cell_type": "markdown",
      "source": [
        "# Import Data"
      ],
      "metadata": {
        "id": "ld_g8w56JZkv"
      }
    },
    {
      "cell_type": "code",
      "source": [
        "dtype = {\n",
        "    \"station\": str,\n",
        "    \"AMB_TEMP\": int,\n",
        "    \"CH4\": int,\n",
        "    \"CO\": float,\n",
        "    \"NMHC\": float,\n",
        "    \"NO\": float,\n",
        "    \"NO2\": int,\n",
        "    \"NOx\": int,\n",
        "    \"O3\": int,\n",
        "    \"PH_RAIN\": str,\n",
        "    \"PM10\": int,\n",
        "    \"PM2.5\": int,\n",
        "    \"RAINFALL\": str,\n",
        "    \"RAIN_COND\": str,\n",
        "    \"RH\": str,\n",
        "    \"SO2\": int,\n",
        "    \"THC\": float,\n",
        "    \"UVB\": int,\n",
        "    \"WD_HR\": int,\n",
        "    \"WIND_DIREC\": int,\n",
        "    \"WIND_SPEED\": float,\n",
        "    \"WS_HR\": float\n",
        "}"
      ],
      "metadata": {
        "execution": {
          "iopub.status.busy": "2022-07-20T07:39:27.201775Z",
          "iopub.execute_input": "2022-07-20T07:39:27.202781Z",
          "iopub.status.idle": "2022-07-20T07:39:27.210639Z",
          "shell.execute_reply.started": "2022-07-20T07:39:27.202729Z",
          "shell.execute_reply": "2022-07-20T07:39:27.209493Z"
        },
        "trusted": true,
        "id": "hig0pZJNJZkw"
      },
      "execution_count": null,
      "outputs": []
    },
    {
      "cell_type": "code",
      "source": [
        "#| # indicates invalid value by equipment inspection\n",
        "#| * indicates invalid value by program inspection\n",
        "#| x indicates invalid value by human inspection\n",
        "#| NR indicates no rainfall\n",
        "#| blank indicates no data\n",
        "\n",
        "def clean_data(elem):\n",
        "    elem = str(elem)\n",
        "    if elem is None or elem is '':\n",
        "        return np.NaN\n",
        "    if any(x in elem for x in [\"#\", \"*\", \"x\"]):\n",
        "        return np.NaN\n",
        "    if any(x in elem for x in [\".\", \"e\"]):\n",
        "        return float(elem)\n",
        "    if elem in 'NR':\n",
        "        return -1\n",
        "    return int(elem)\n",
        "\n",
        "converters = {\n",
        "    \"AMB_TEMP\": clean_data,\n",
        "    \"CH4\": clean_data,\n",
        "    \"CO\": clean_data,\n",
        "    \"NMHC\": clean_data,\n",
        "    \"NO\": clean_data,\n",
        "    \"NO2\": clean_data,\n",
        "    \"NOx\": clean_data,\n",
        "    \"O3\": clean_data,\n",
        "    \"PH_RAIN\": clean_data,\n",
        "    \"PM10\": clean_data,\n",
        "    \"PM2.5\": clean_data,\n",
        "    \"RAINFALL\": clean_data,\n",
        "    \"RAIN_COND\": clean_data,\n",
        "    \"RH\": clean_data,\n",
        "    \"SO2\": clean_data,\n",
        "    \"THC\": clean_data,\n",
        "    \"UVB\": clean_data,\n",
        "    \"WD_HR\": clean_data,\n",
        "    \"WIND_DIREC\": clean_data,\n",
        "    \"WIND_SPEED\": clean_data,\n",
        "    \"WS_HR\": clean_data\n",
        "}"
      ],
      "metadata": {
        "execution": {
          "iopub.status.busy": "2022-07-20T07:39:27.211917Z",
          "iopub.execute_input": "2022-07-20T07:39:27.212697Z",
          "iopub.status.idle": "2022-07-20T07:39:27.224517Z",
          "shell.execute_reply.started": "2022-07-20T07:39:27.212665Z",
          "shell.execute_reply": "2022-07-20T07:39:27.223645Z"
        },
        "trusted": true,
        "id": "wVqsuSsAJZkw"
      },
      "execution_count": null,
      "outputs": []
    },
    {
      "cell_type": "code",
      "source": [
        "df = pd.read_csv('/kaggle/input/air-quality-in-northern-taiwan/2015_Air_quality_in_northern_Taiwan.csv', dtype = dtype, converters = converters, parse_dates = ['time'])\n",
        "df.dtypes"
      ],
      "metadata": {
        "execution": {
          "iopub.status.busy": "2022-07-20T07:39:27.226357Z",
          "iopub.execute_input": "2022-07-20T07:39:27.227145Z",
          "iopub.status.idle": "2022-07-20T07:39:37.685347Z",
          "shell.execute_reply.started": "2022-07-20T07:39:27.227102Z",
          "shell.execute_reply": "2022-07-20T07:39:37.684063Z"
        },
        "trusted": true,
        "id": "vdAjZB1FJZkw"
      },
      "execution_count": null,
      "outputs": []
    },
    {
      "cell_type": "markdown",
      "source": [
        "# Clean Data"
      ],
      "metadata": {
        "id": "o5CrUO1RJZkw"
      }
    },
    {
      "cell_type": "code",
      "source": [
        "percent_missing = df.isnull().sum() * 100 / len(df)\n",
        "missing_value_df = pd.DataFrame({'column_name': df.columns,\n",
        "                                 'percent_missing': percent_missing})\n",
        "missing_value_df.sort_values('percent_missing', inplace=True)\n",
        "missing_value_df.plot.bar(x='column_name', y='percent_missing', rot=45, figsize=(20, 5))"
      ],
      "metadata": {
        "execution": {
          "iopub.status.busy": "2022-07-20T07:39:37.686929Z",
          "iopub.execute_input": "2022-07-20T07:39:37.687371Z",
          "iopub.status.idle": "2022-07-20T07:39:38.086836Z",
          "shell.execute_reply.started": "2022-07-20T07:39:37.687326Z",
          "shell.execute_reply": "2022-07-20T07:39:38.085659Z"
        },
        "trusted": true,
        "id": "DQl78z-9JZkw"
      },
      "execution_count": null,
      "outputs": []
    },
    {
      "cell_type": "markdown",
      "source": [
        "Analysis\n",
        "\n",
        "- All columns for calculating the AQI with NaNs can be dropped as the percentage of NaNs in the columns is around 5%\n",
        "- Any analysis with wind speed would result in 20% of data being dropped which will have to be considered\n",
        "- UVB has lots of Null values making any analysis difficult\n",
        "\n",
        "Conclusion\n",
        "\n",
        "- Drop NaN rows for relevant columns (columns used in AQI)\n",
        "- Drop columns where not enough data is present"
      ],
      "metadata": {
        "id": "8YdG8U9-JZkx"
      }
    },
    {
      "cell_type": "code",
      "source": [
        "relevant_cols = [\"time\", \"station\", \"CO\", \"NOx\", \"NO2\", \"SO2\", \"PM10\", \"PM2.5\", \"RAINFALL\", \"AMB_TEMP\", \"RH\", \"O3\"]\n",
        "drop_cols = [\"CH4\", \"THC\", \"NMHC\", \"PH_RAIN\", \"RAIN_COND\", \"UVB\"]\n",
        "\n",
        "df.dropna(subset=relevant_cols, inplace=True)\n",
        "df.drop(drop_cols, axis=1, inplace=True)"
      ],
      "metadata": {
        "execution": {
          "iopub.status.busy": "2022-07-20T07:39:38.088276Z",
          "iopub.execute_input": "2022-07-20T07:39:38.088611Z",
          "iopub.status.idle": "2022-07-20T07:39:38.175115Z",
          "shell.execute_reply.started": "2022-07-20T07:39:38.08858Z",
          "shell.execute_reply": "2022-07-20T07:39:38.174095Z"
        },
        "trusted": true,
        "id": "gRMnbK4jJZkx"
      },
      "execution_count": null,
      "outputs": []
    },
    {
      "cell_type": "markdown",
      "source": [
        "# Analysis"
      ],
      "metadata": {
        "id": "H_rBj_GbJZkx"
      }
    },
    {
      "cell_type": "markdown",
      "source": [
        "## Univariate Analysis"
      ],
      "metadata": {
        "id": "g26UTKT7JZkx"
      }
    },
    {
      "cell_type": "code",
      "source": [
        "df.describe()"
      ],
      "metadata": {
        "execution": {
          "iopub.status.busy": "2022-07-20T07:39:38.177504Z",
          "iopub.execute_input": "2022-07-20T07:39:38.178025Z",
          "iopub.status.idle": "2022-07-20T07:39:38.349733Z",
          "shell.execute_reply.started": "2022-07-20T07:39:38.177992Z",
          "shell.execute_reply": "2022-07-20T07:39:38.348571Z"
        },
        "trusted": true,
        "id": "-LrfhYyMJZkx"
      },
      "execution_count": null,
      "outputs": []
    },
    {
      "cell_type": "code",
      "source": [
        "cols = list(df.columns)[2:]\n",
        "\n",
        "block = len(cols) // 3\n",
        "\n",
        "plt.figure(figsize=(20,10))\n",
        "plt.suptitle(\"Frequency Histograms\")\n",
        "for idx, col in enumerate(cols):\n",
        "    plt.subplot(math.ceil(len(cols) / block), block, idx + 1)\n",
        "    plt.xlabel(col)\n",
        "    plt.ylabel(\"Frequency\")\n",
        "    plt.hist(df[col], bins=30)"
      ],
      "metadata": {
        "execution": {
          "iopub.status.busy": "2022-07-20T07:39:38.350941Z",
          "iopub.execute_input": "2022-07-20T07:39:38.351258Z",
          "iopub.status.idle": "2022-07-20T07:39:40.784735Z",
          "shell.execute_reply.started": "2022-07-20T07:39:38.35123Z",
          "shell.execute_reply": "2022-07-20T07:39:40.78365Z"
        },
        "trusted": true,
        "id": "I0ohJgkaJZkx"
      },
      "execution_count": null,
      "outputs": []
    },
    {
      "cell_type": "markdown",
      "source": [
        "## Bi/Multivariate Analysis"
      ],
      "metadata": {
        "id": "7biv-w2zJZkx"
      }
    },
    {
      "cell_type": "code",
      "source": [
        "# Breakup timestamp\n",
        "df['year'] = df['time'].dt.to_period('Y')\n",
        "df['month'] = df['time'].dt.to_period('M')\n",
        "df['day'] = df['time'].dt.to_period('D')\n",
        "df['8hour'] = df['time'].dt.to_period('8H')"
      ],
      "metadata": {
        "execution": {
          "iopub.status.busy": "2022-07-20T07:39:40.785993Z",
          "iopub.execute_input": "2022-07-20T07:39:40.786787Z",
          "iopub.status.idle": "2022-07-20T07:39:40.876099Z",
          "shell.execute_reply.started": "2022-07-20T07:39:40.786751Z",
          "shell.execute_reply": "2022-07-20T07:39:40.874934Z"
        },
        "trusted": true,
        "id": "8iLFBK3YJZkx"
      },
      "execution_count": null,
      "outputs": []
    },
    {
      "cell_type": "code",
      "source": [
        "# Seasons\n",
        "seasons_dic = {\n",
        "    '2015-01': \"winter\",\n",
        "    '2015-02': \"winter\",\n",
        "    '2015-03': \"spring\",\n",
        "    '2015-04': \"spring\",\n",
        "    '2015-05': \"spring\",\n",
        "    '2015-06': \"summer\",\n",
        "    '2015-07': \"summer\",\n",
        "    '2015-08': \"summer\",\n",
        "    '2015-09': \"autumn\",\n",
        "    '2015-10': \"autumn\",\n",
        "    '2015-11': \"autumn\",\n",
        "    '2015-12': \"winter\",\n",
        "}\n",
        "\n",
        "df['season'] = df['month'].map(str).map(seasons_dic)"
      ],
      "metadata": {
        "execution": {
          "iopub.status.busy": "2022-07-20T07:39:40.877841Z",
          "iopub.execute_input": "2022-07-20T07:39:40.878306Z",
          "iopub.status.idle": "2022-07-20T07:39:42.232518Z",
          "shell.execute_reply.started": "2022-07-20T07:39:40.878261Z",
          "shell.execute_reply": "2022-07-20T07:39:42.231304Z"
        },
        "trusted": true,
        "id": "NB64obHHJZkx"
      },
      "execution_count": null,
      "outputs": []
    },
    {
      "cell_type": "code",
      "source": [
        "# Month name\n",
        "month_dic = {\n",
        "    '2015-01': \"jan\",\n",
        "    '2015-02': \"feb\",\n",
        "    '2015-03': \"mar\",\n",
        "    '2015-04': \"apr\",\n",
        "    '2015-05': \"may\",\n",
        "    '2015-06': \"jun\",\n",
        "    '2015-07': \"jul\",\n",
        "    '2015-08': \"aug\",\n",
        "    '2015-09': \"sep\",\n",
        "    '2015-10': \"oct\",\n",
        "    '2015-11': \"nov\",\n",
        "    '2015-12': \"dec\",\n",
        "}\n",
        "\n",
        "df['month_label'] = df['month'].map(str).map(month_dic)"
      ],
      "metadata": {
        "execution": {
          "iopub.status.busy": "2022-07-20T07:39:42.235904Z",
          "iopub.execute_input": "2022-07-20T07:39:42.236692Z",
          "iopub.status.idle": "2022-07-20T07:39:43.5643Z",
          "shell.execute_reply.started": "2022-07-20T07:39:42.236642Z",
          "shell.execute_reply": "2022-07-20T07:39:43.563218Z"
        },
        "trusted": true,
        "id": "ufS0wk19JZky"
      },
      "execution_count": null,
      "outputs": []
    },
    {
      "cell_type": "markdown",
      "source": [
        "### Levels of Pollution\n",
        "\n",
        "AQI air quality index\n",
        "https://app.cpcbccr.com/ccr_docs/FINAL-REPORT_AQI_.pdf\n",
        "\n",
        "\n",
        "WHO guidance for annual levels of: PM2.5 & 10, O3, NO2, SO2\n",
        "https://www.who.int/news-room/fact-sheets/detail/ambient-(outdoor)-air-quality-and-health\n",
        "\n",
        "    Annual Mean Recommendations\n",
        "    - PM2.5 - 5 μg/m3\n",
        "    - PM10 - 15 μg/m3\n",
        "    - NO2 - 10 μg/m3\n",
        "\n",
        "    24 Hour Mean Recommendations\n",
        "    - PM2.5 - 15 μg/m3\n",
        "    - PM10 - 45 μg/m3\n",
        "    - NO2 - 25 μg/m3\n",
        "    - SO2 - 40 μg/m3\n",
        "\n",
        "    8 Hour Mean Recommendations\n",
        "    - O3 - 100 μg/m3"
      ],
      "metadata": {
        "id": "iHjYJ3XiJZky"
      }
    },
    {
      "cell_type": "code",
      "source": [
        "# 24 Hour Mean Recommended\n",
        "\n",
        "cols = [['PM2.5_polluted', 'PM2.5', 15], ['PM10_polluted', 'PM10', 45], ['NO2_polluted', 'NO2', 25], ['SO2_polluted', 'SO2', 40]]\n",
        "\n",
        "for elem in cols:\n",
        "    pol_col, col, thresh = elem\n",
        "\n",
        "    averages = df[[col, 'day']].groupby(\"day\").mean()\n",
        "    averages[pol_col] = averages[col] > thresh\n",
        "    dic = averages[pol_col].to_dict()\n",
        "\n",
        "    df[pol_col] = df['day'].map(dic)"
      ],
      "metadata": {
        "execution": {
          "iopub.status.busy": "2022-07-20T07:39:43.565859Z",
          "iopub.execute_input": "2022-07-20T07:39:43.566196Z",
          "iopub.status.idle": "2022-07-20T07:39:43.638295Z",
          "shell.execute_reply.started": "2022-07-20T07:39:43.566164Z",
          "shell.execute_reply": "2022-07-20T07:39:43.637119Z"
        },
        "trusted": true,
        "id": "Zic4mySEJZky"
      },
      "execution_count": null,
      "outputs": []
    },
    {
      "cell_type": "code",
      "source": [
        "# 8 Hour Mean Recommended\n",
        "\n",
        "cols = [['O3_polluted', 'O3', 100]]\n",
        "\n",
        "for elem in cols:\n",
        "    pol_col, col, thresh = elem\n",
        "\n",
        "    averages = df[[col, '8hour']].groupby(\"8hour\").mean()\n",
        "    averages[pol_col] = averages[col] > thresh\n",
        "    dic = averages[pol_col].to_dict()\n",
        "\n",
        "    df[pol_col] = df['8hour'].map(dic)"
      ],
      "metadata": {
        "execution": {
          "iopub.status.busy": "2022-07-20T07:39:43.639956Z",
          "iopub.execute_input": "2022-07-20T07:39:43.640432Z",
          "iopub.status.idle": "2022-07-20T07:39:43.724299Z",
          "shell.execute_reply.started": "2022-07-20T07:39:43.640389Z",
          "shell.execute_reply": "2022-07-20T07:39:43.72315Z"
        },
        "trusted": true,
        "id": "XHw9ROyiJZky"
      },
      "execution_count": null,
      "outputs": []
    },
    {
      "cell_type": "code",
      "source": [
        "pollutants = ['PM2.5_polluted', 'PM10_polluted', 'NO2_polluted', 'SO2_polluted', 'O3_polluted']\n",
        "df['polluted'] = df[pollutants].sum(axis = 1) / len(pollutants)"
      ],
      "metadata": {
        "execution": {
          "iopub.status.busy": "2022-07-20T07:39:43.725685Z",
          "iopub.execute_input": "2022-07-20T07:39:43.726147Z",
          "iopub.status.idle": "2022-07-20T07:39:43.739794Z",
          "shell.execute_reply.started": "2022-07-20T07:39:43.726104Z",
          "shell.execute_reply": "2022-07-20T07:39:43.738556Z"
        },
        "trusted": true,
        "id": "6LDma1aaJZky"
      },
      "execution_count": null,
      "outputs": []
    },
    {
      "cell_type": "markdown",
      "source": [
        "### Temporal Trends\n",
        "\n",
        "Which seasons have low air quality"
      ],
      "metadata": {
        "id": "vaG2lvWCJZkz"
      }
    },
    {
      "cell_type": "code",
      "source": [
        "[*pollutants, 'month']"
      ],
      "metadata": {
        "execution": {
          "iopub.status.busy": "2022-07-20T07:39:43.74375Z",
          "iopub.execute_input": "2022-07-20T07:39:43.744977Z",
          "iopub.status.idle": "2022-07-20T07:39:43.752697Z",
          "shell.execute_reply.started": "2022-07-20T07:39:43.744926Z",
          "shell.execute_reply": "2022-07-20T07:39:43.751894Z"
        },
        "trusted": true,
        "id": "12Oqyud8JZkz"
      },
      "execution_count": null,
      "outputs": []
    },
    {
      "cell_type": "code",
      "source": [
        "df.groupby('month')[pollutants].mean().sort_values(by=\"month\")"
      ],
      "metadata": {
        "execution": {
          "iopub.status.busy": "2022-07-20T07:39:43.754082Z",
          "iopub.execute_input": "2022-07-20T07:39:43.755148Z",
          "iopub.status.idle": "2022-07-20T07:39:43.807324Z",
          "shell.execute_reply.started": "2022-07-20T07:39:43.7551Z",
          "shell.execute_reply": "2022-07-20T07:39:43.806238Z"
        },
        "trusted": true,
        "id": "D44RgOh2JZkz"
      },
      "execution_count": null,
      "outputs": []
    },
    {
      "cell_type": "code",
      "source": [
        "plt.figure(figsize=(30,8))\n",
        "plt.suptitle(\"Temporal Trends\")\n",
        "plt.subplot(1, 2, 1)\n",
        "seasons = df.groupby('season')[pollutants].mean()\n",
        "plt.ylabel(\"level of air pollution\")\n",
        "plt.xlabel(\"seasons\")\n",
        "plt.plot(seasons.index, seasons.values, label = pollutants)\n",
        "plt.legend()\n",
        "plt.subplot(1, 2, 2)\n",
        "seasons = df.groupby('season')['polluted'].mean()\n",
        "plt.ylabel(\"level of air pollution\")\n",
        "plt.xlabel(\"seasons\")\n",
        "plt.plot(seasons.index, seasons.values)"
      ],
      "metadata": {
        "execution": {
          "iopub.status.busy": "2022-07-20T07:39:43.808684Z",
          "iopub.execute_input": "2022-07-20T07:39:43.809027Z",
          "iopub.status.idle": "2022-07-20T07:39:44.235781Z",
          "shell.execute_reply.started": "2022-07-20T07:39:43.808997Z",
          "shell.execute_reply": "2022-07-20T07:39:44.234613Z"
        },
        "trusted": true,
        "id": "VOm5zTThJZkz"
      },
      "execution_count": null,
      "outputs": []
    },
    {
      "cell_type": "code",
      "source": [
        "plt.figure(figsize=(30,8))\n",
        "plt.suptitle(\"Temporal Trends\")\n",
        "plt.subplot(1, 2, 1)\n",
        "months = df.groupby('month')[pollutants].mean()\n",
        "plt.ylabel(\"level of air pollution\")\n",
        "plt.xlabel(\"months\")\n",
        "plt.plot(months.index.map(str), months.values, label = pollutants)\n",
        "plt.legend()\n",
        "plt.subplot(1, 2, 2)\n",
        "months = df.groupby('month')['polluted'].mean()\n",
        "plt.ylabel(\"level of air pollution\")\n",
        "plt.xlabel(\"months\")\n",
        "plt.plot(months.index.map(str), months.values)"
      ],
      "metadata": {
        "execution": {
          "iopub.status.busy": "2022-07-20T07:39:44.237198Z",
          "iopub.execute_input": "2022-07-20T07:39:44.237736Z",
          "iopub.status.idle": "2022-07-20T07:39:44.680915Z",
          "shell.execute_reply.started": "2022-07-20T07:39:44.237704Z",
          "shell.execute_reply": "2022-07-20T07:39:44.680148Z"
        },
        "trusted": true,
        "id": "BruuUTetJZkz"
      },
      "execution_count": null,
      "outputs": []
    },
    {
      "cell_type": "markdown",
      "source": [
        "Conclusion\n",
        "- August, Jun and July show low levels of pollution. This could be due to less people using transport in hotter weather, or different atmospheric conditions."
      ],
      "metadata": {
        "id": "OeCvhXm6JZkz"
      }
    },
    {
      "cell_type": "markdown",
      "source": [
        "### Spatial Trends"
      ],
      "metadata": {
        "id": "2dSYGApdJZkz"
      }
    },
    {
      "cell_type": "code",
      "source": [
        "plt.figure(figsize=(30,7))\n",
        "plt.suptitle(\"Temporal Trends\")\n",
        "plt.subplot(1, 2, 1)\n",
        "seasons = df.groupby('station')[pollutants].mean()\n",
        "plt.ylabel(\"level of air pollution\")\n",
        "plt.xlabel(\"station\")\n",
        "plt.xticks(rotation=45)\n",
        "plt.plot(seasons.index, seasons.values, label = pollutants)\n",
        "plt.legend()\n",
        "plt.subplot(1, 2, 2)\n",
        "seasons = df.groupby('station')['polluted'].mean()\n",
        "plt.ylabel(\"level of air pollution\")\n",
        "plt.xlabel(\"station\")\n",
        "plt.xticks(rotation=45)\n",
        "plt.plot(seasons.index, seasons.values)\n",
        "plt.show()"
      ],
      "metadata": {
        "execution": {
          "iopub.status.busy": "2022-07-20T07:39:44.682266Z",
          "iopub.execute_input": "2022-07-20T07:39:44.682804Z",
          "iopub.status.idle": "2022-07-20T07:39:45.240937Z",
          "shell.execute_reply.started": "2022-07-20T07:39:44.682771Z",
          "shell.execute_reply": "2022-07-20T07:39:45.239702Z"
        },
        "trusted": true,
        "id": "Tl4t64p0JZkz"
      },
      "execution_count": null,
      "outputs": []
    },
    {
      "cell_type": "markdown",
      "source": [
        "Conclusions\n",
        "- The pollution for each station is very similar, meaning there is a low standard deviation between all stations. Probably due to being is similar conditions."
      ],
      "metadata": {
        "id": "UZbOolwFJZk0"
      }
    },
    {
      "cell_type": "markdown",
      "source": [
        "### Relationship between Pollutants"
      ],
      "metadata": {
        "id": "n7gTa4BlJZk0"
      }
    },
    {
      "cell_type": "code",
      "source": [
        "col = [\"CO\", \"NOx\", \"NO2\", \"SO2\", \"PM10\", \"PM2.5\", \"O3\"]"
      ],
      "metadata": {
        "execution": {
          "iopub.status.busy": "2022-07-20T07:39:45.242157Z",
          "iopub.execute_input": "2022-07-20T07:39:45.242474Z",
          "iopub.status.idle": "2022-07-20T07:39:45.247538Z",
          "shell.execute_reply.started": "2022-07-20T07:39:45.242445Z",
          "shell.execute_reply": "2022-07-20T07:39:45.246465Z"
        },
        "trusted": true,
        "id": "s2TOEfk-JZk0"
      },
      "execution_count": null,
      "outputs": []
    },
    {
      "cell_type": "code",
      "source": [
        "data = df[col].corr()\n",
        "\n",
        "fig, ax = plt.subplots(figsize=(10, 10))\n",
        "ax.matshow(data)\n",
        "ax.set_xticklabels([''] + col)\n",
        "ax.set_yticklabels([''] + col)\n",
        "\n",
        "for (i, j), z in np.ndenumerate(data):\n",
        "    ax.text(j, i, '{:0.1f}'.format(z), ha='center', va='center')"
      ],
      "metadata": {
        "execution": {
          "iopub.status.busy": "2022-07-20T07:39:45.24878Z",
          "iopub.execute_input": "2022-07-20T07:39:45.249077Z",
          "iopub.status.idle": "2022-07-20T07:39:45.721733Z",
          "shell.execute_reply.started": "2022-07-20T07:39:45.24905Z",
          "shell.execute_reply": "2022-07-20T07:39:45.720439Z"
        },
        "trusted": true,
        "id": "OcR_6Z-fJZk0"
      },
      "execution_count": null,
      "outputs": []
    },
    {
      "cell_type": "markdown",
      "source": [
        "Conclusion\n",
        "- PM10 is related to PM2.5, this is expected as they are both related to particles\n",
        "- CO, NOx and NO2 are related\n",
        "- When CO, NOx and NO2 is high O3 is low, showing a negative correlation\n",
        "- Both PMs show little correlation to other variables"
      ],
      "metadata": {
        "id": "uQhnNawXJZk0"
      }
    },
    {
      "cell_type": "markdown",
      "source": [
        "# Hypothesis"
      ],
      "metadata": {
        "id": "FYbA9cL3JZk0"
      }
    },
    {
      "cell_type": "code",
      "source": [
        "from scipy.stats.stats import pearsonr\n",
        "from scipy import stats"
      ],
      "metadata": {
        "execution": {
          "iopub.status.busy": "2022-07-20T07:39:45.72319Z",
          "iopub.execute_input": "2022-07-20T07:39:45.723508Z",
          "iopub.status.idle": "2022-07-20T07:39:46.044883Z",
          "shell.execute_reply.started": "2022-07-20T07:39:45.723479Z",
          "shell.execute_reply": "2022-07-20T07:39:46.043825Z"
        },
        "trusted": true,
        "id": "wvly8dTDJZk0"
      },
      "execution_count": null,
      "outputs": []
    },
    {
      "cell_type": "markdown",
      "source": [
        "**Hypothesis 1**\n",
        "\n",
        "h0 : PM2.5 is not correlated to PM10\n",
        "\n",
        "h1 : PM2.5 is correlated to PM10"
      ],
      "metadata": {
        "id": "MsClAfG3JZk0"
      }
    },
    {
      "cell_type": "code",
      "source": [
        "pearsonr(df['PM2.5'], df['PM10'])"
      ],
      "metadata": {
        "execution": {
          "iopub.status.busy": "2022-07-20T07:39:46.046672Z",
          "iopub.execute_input": "2022-07-20T07:39:46.047108Z",
          "iopub.status.idle": "2022-07-20T07:39:46.061003Z",
          "shell.execute_reply.started": "2022-07-20T07:39:46.047065Z",
          "shell.execute_reply": "2022-07-20T07:39:46.059459Z"
        },
        "trusted": true,
        "id": "eB1auLe4JZk0"
      },
      "execution_count": null,
      "outputs": []
    },
    {
      "cell_type": "markdown",
      "source": [
        "Correlation coefficient: 0.81\n",
        "\n",
        "P-value: 0\n",
        "\n",
        "Therefore, there is correlation and with strong statistical significance.\n",
        "\n",
        "Accept h1."
      ],
      "metadata": {
        "id": "qnWuOaG_JZk0"
      }
    },
    {
      "cell_type": "markdown",
      "source": [
        "**Hypothesis 2**\n",
        "\n",
        "h0 : PM10 is correlated to NOx\n",
        "\n",
        "h1 : PM10 is not correlated to NOx"
      ],
      "metadata": {
        "id": "q_HXJqcbJZk8"
      }
    },
    {
      "cell_type": "code",
      "source": [
        "pearsonr(df['PM10'], df['NOx'])"
      ],
      "metadata": {
        "execution": {
          "iopub.status.busy": "2022-07-20T07:39:46.063198Z",
          "iopub.execute_input": "2022-07-20T07:39:46.063871Z",
          "iopub.status.idle": "2022-07-20T07:39:46.076922Z",
          "shell.execute_reply.started": "2022-07-20T07:39:46.063803Z",
          "shell.execute_reply": "2022-07-20T07:39:46.075758Z"
        },
        "trusted": true,
        "id": "pcdGDEVdJZk8"
      },
      "execution_count": null,
      "outputs": []
    },
    {
      "cell_type": "markdown",
      "source": [
        "Correlation coefficient: 0.29\n",
        "\n",
        "P-value: 0\n",
        "\n",
        "Coefficient is closer to zero, therefore, there is no correlation and with strong statistical significance.\n",
        "\n",
        "Accept h1."
      ],
      "metadata": {
        "id": "7oqouPpoJZk8"
      }
    },
    {
      "cell_type": "markdown",
      "source": [
        "**Hypothesis 3**\n",
        "\n",
        "h0 : CO is not correlated to O3\n",
        "\n",
        "h1 : CO is negatively correlated to O3"
      ],
      "metadata": {
        "id": "4DnOMAvlJZk9"
      }
    },
    {
      "cell_type": "code",
      "source": [
        "pearsonr(df['CO'], df['O3'])"
      ],
      "metadata": {
        "execution": {
          "iopub.status.busy": "2022-07-20T07:39:46.078944Z",
          "iopub.execute_input": "2022-07-20T07:39:46.07972Z",
          "iopub.status.idle": "2022-07-20T07:39:46.091855Z",
          "shell.execute_reply.started": "2022-07-20T07:39:46.079665Z",
          "shell.execute_reply": "2022-07-20T07:39:46.090977Z"
        },
        "trusted": true,
        "id": "rQWKN_IUJZk9"
      },
      "execution_count": null,
      "outputs": []
    },
    {
      "cell_type": "markdown",
      "source": [
        "Correlation coefficient: -0.36\n",
        "\n",
        "P-value: 0\n",
        "\n",
        "Coefficient is negative, however, closer to zero, therefore, there is no correlation and with strong statistical significance.\n",
        "\n",
        "Accept h0."
      ],
      "metadata": {
        "id": "OrTq4NioJZk9"
      }
    },
    {
      "cell_type": "markdown",
      "source": [
        "**Hypothesis 4**\n",
        "\n",
        "h0 : Air pollution in the Winter is not higher than the Summer\n",
        "\n",
        "h1 : Air pollution in the Winter is higher than the Summer"
      ],
      "metadata": {
        "id": "MAY7LO0wJZk9"
      }
    },
    {
      "cell_type": "code",
      "source": [
        "summer_pollution = df[df['season'] == 'summer']['polluted']\n",
        "winter_pollution = df[df['season'] == 'winter']['polluted']\n",
        "\n",
        "print(f\"Mean Difference (stayed - left): {np.abs(summer_pollution.mean() - winter_pollution.mean())}\")"
      ],
      "metadata": {
        "execution": {
          "iopub.status.busy": "2022-07-20T07:39:46.09375Z",
          "iopub.execute_input": "2022-07-20T07:39:46.094771Z",
          "iopub.status.idle": "2022-07-20T07:39:46.21462Z",
          "shell.execute_reply.started": "2022-07-20T07:39:46.094714Z",
          "shell.execute_reply": "2022-07-20T07:39:46.213822Z"
        },
        "trusted": true,
        "id": "ens8gF3GJZk9"
      },
      "execution_count": null,
      "outputs": []
    },
    {
      "cell_type": "code",
      "source": [
        "alpha = 0.05\n",
        "statistic, pvalue = stats.ttest_ind(summer_pollution, winter_pollution)\n",
        "print(f\"Alpha Value: {alpha}, P-Value: {pvalue}\")"
      ],
      "metadata": {
        "execution": {
          "iopub.status.busy": "2022-07-20T07:39:46.216107Z",
          "iopub.execute_input": "2022-07-20T07:39:46.216731Z",
          "iopub.status.idle": "2022-07-20T07:39:46.223961Z",
          "shell.execute_reply.started": "2022-07-20T07:39:46.216697Z",
          "shell.execute_reply": "2022-07-20T07:39:46.222967Z"
        },
        "trusted": true,
        "id": "bslaottRJZk9"
      },
      "execution_count": null,
      "outputs": []
    },
    {
      "cell_type": "markdown",
      "source": [
        "The p value returned is less than or equal to 0.05 then the chance the data occurred randomly is very low, therefore, there is statistical significance, and the non null hypothesis (h1) can be accepted.\n",
        "\n",
        "The p value is zero as the dataset used for testing is very large, therefore, the error is very low."
      ],
      "metadata": {
        "id": "PWuVNxA3JZk9"
      }
    },
    {
      "cell_type": "markdown",
      "source": [
        "# Evaluate\n",
        "\n",
        "Temporal Correlation\n",
        "\n",
        "- August, Jun and July show low levels of pollution. This could be due to less people using transport in hotter weather, or different atmospheric conditions.\n",
        "\n",
        "Spatial Correlation\n",
        "\n",
        "- The pollution for each station is very similar, meaning there is a low standard deviation between all stations. Probably due to being is similar conditions.\n",
        "\n",
        "Pollutant Correlations\n",
        "\n",
        "- PM10 is related to PM2.5, this is expected as they are both related to particles\n",
        "- CO, NOx and NO2 are related\n",
        "- When CO, NOx and NO2 is high O3 is low, showing a negative correlation\n",
        "- Both PMs show little correlation to other variables"
      ],
      "metadata": {
        "id": "3A8lp6XuJZk9"
      }
    }
  ]
}