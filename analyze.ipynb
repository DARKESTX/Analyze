{
  "nbformat": 4,
  "nbformat_minor": 0,
  "metadata": {
    "colab": {
      "provenance": [],
      "authorship_tag": "ABX9TyOJdEtxamtU80hf2s1mGHxB",
      "include_colab_link": true
    },
    "kernelspec": {
      "name": "python3",
      "display_name": "Python 3"
    },
    "language_info": {
      "name": "python"
    }
  },
  "cells": [
    {
      "cell_type": "markdown",
      "metadata": {
        "id": "view-in-github",
        "colab_type": "text"
      },
      "source": [
        "<a href=\"https://colab.research.google.com/github/DARKESTX/Analyze/blob/main/analyze.ipynb\" target=\"_parent\"><img src=\"https://colab.research.google.com/assets/colab-badge.svg\" alt=\"Open In Colab\"/></a>"
      ]
    },
    {
      "cell_type": "code",
      "execution_count": 4,
      "metadata": {
        "colab": {
          "base_uri": "https://localhost:8080/"
        },
        "id": "hK5x-s85AA32",
        "outputId": "aa09a23c-45e2-496e-cca6-6fdc7eb5627f"
      },
      "outputs": [
        {
          "output_type": "stream",
          "name": "stderr",
          "text": [
            "<ipython-input-4-400c3e9e7a89>:2: DtypeWarning: Columns (3,5,10,14,17,18) have mixed types. Specify dtype option on import or set low_memory=False.\n",
            "  data=pd.read_csv(\"2015_Air_quality_in_northern_Taiwan.csv\")\n"
          ]
        }
      ],
      "source": [
        "import pandas as pd\n",
        "data=pd.read_csv(\"2015_Air_quality_in_northern_Taiwan.csv\")"
      ]
    }
  ]
}