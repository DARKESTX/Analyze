{
  "metadata": {
    "kernelspec": {
      "language": "python",
      "display_name": "Python 3",
      "name": "python3"
    },
    "language_info": {
      "pygments_lexer": "ipython3",
      "nbconvert_exporter": "python",
      "version": "3.6.4",
      "file_extension": ".py",
      "codemirror_mode": {
        "name": "ipython",
        "version": 3
      },
      "name": "python",
      "mimetype": "text/x-python"
    },
    "colab": {
      "provenance": [],
      "include_colab_link": true
    }
  },
  "nbformat_minor": 0,
  "nbformat": 4,
  "cells": [
    {
      "cell_type": "markdown",
      "metadata": {
        "id": "view-in-github",
        "colab_type": "text"
      },
      "source": [
        "<a href=\"https://colab.research.google.com/github/DARKESTX/Analyze/blob/main/netflix_india_data_exploration_project.ipynb\" target=\"_parent\"><img src=\"https://colab.research.google.com/assets/colab-badge.svg\" alt=\"Open In Colab\"/></a>"
      ]
    },
    {
      "cell_type": "markdown",
      "source": [
        "* Importing Libraries"
      ],
      "metadata": {
        "id": "DJ01CnDzMKFY"
      }
    },
    {
      "cell_type": "code",
      "source": [
        "import numpy as np\n",
        "import pandas as pd\n",
        "import matplotlib.pyplot as plt\n",
        "import seaborn as sns"
      ],
      "metadata": {
        "execution": {
          "iopub.status.busy": "2023-03-18T14:10:47.845541Z",
          "iopub.execute_input": "2023-03-18T14:10:47.846049Z",
          "iopub.status.idle": "2023-03-18T14:10:47.851581Z",
          "shell.execute_reply.started": "2023-03-18T14:10:47.845953Z",
          "shell.execute_reply": "2023-03-18T14:10:47.850704Z"
        },
        "trusted": true,
        "id": "fdGar9DqMKFb"
      },
      "execution_count": null,
      "outputs": []
    },
    {
      "cell_type": "markdown",
      "source": [
        "* Loading data"
      ],
      "metadata": {
        "id": "CWjdG3UUMKFc"
      }
    },
    {
      "cell_type": "code",
      "source": [
        "df = pd.read_csv(\"/kaggle/input/netflix/netfix_cleaned.csv\")\n",
        "df"
      ],
      "metadata": {
        "execution": {
          "iopub.status.busy": "2023-03-18T14:10:47.853465Z",
          "iopub.execute_input": "2023-03-18T14:10:47.854301Z",
          "iopub.status.idle": "2023-03-18T14:10:47.895842Z",
          "shell.execute_reply.started": "2023-03-18T14:10:47.854264Z",
          "shell.execute_reply": "2023-03-18T14:10:47.894757Z"
        },
        "trusted": true,
        "id": "J8-CEJehMKFc"
      },
      "execution_count": null,
      "outputs": []
    },
    {
      "cell_type": "code",
      "source": [
        "df.head()"
      ],
      "metadata": {
        "execution": {
          "iopub.status.busy": "2023-03-18T14:10:47.897116Z",
          "iopub.execute_input": "2023-03-18T14:10:47.897626Z",
          "iopub.status.idle": "2023-03-18T14:10:47.913168Z",
          "shell.execute_reply.started": "2023-03-18T14:10:47.897592Z",
          "shell.execute_reply": "2023-03-18T14:10:47.912278Z"
        },
        "trusted": true,
        "id": "qdiQGhAXMKFd"
      },
      "execution_count": null,
      "outputs": []
    },
    {
      "cell_type": "code",
      "source": [
        "df.shape"
      ],
      "metadata": {
        "execution": {
          "iopub.status.busy": "2023-03-18T14:10:47.914494Z",
          "iopub.execute_input": "2023-03-18T14:10:47.915454Z",
          "iopub.status.idle": "2023-03-18T14:10:47.928181Z",
          "shell.execute_reply.started": "2023-03-18T14:10:47.915416Z",
          "shell.execute_reply": "2023-03-18T14:10:47.926883Z"
        },
        "trusted": true,
        "id": "bORHHAnUMKFd"
      },
      "execution_count": null,
      "outputs": []
    },
    {
      "cell_type": "code",
      "source": [
        "df.tail()"
      ],
      "metadata": {
        "execution": {
          "iopub.status.busy": "2023-03-18T14:10:47.930584Z",
          "iopub.execute_input": "2023-03-18T14:10:47.931573Z",
          "iopub.status.idle": "2023-03-18T14:10:47.948789Z",
          "shell.execute_reply.started": "2023-03-18T14:10:47.931534Z",
          "shell.execute_reply": "2023-03-18T14:10:47.947925Z"
        },
        "trusted": true,
        "id": "YCAUB99cMKFd"
      },
      "execution_count": null,
      "outputs": []
    },
    {
      "cell_type": "code",
      "source": [
        "df.describe()"
      ],
      "metadata": {
        "execution": {
          "iopub.status.busy": "2023-03-18T14:10:47.950125Z",
          "iopub.execute_input": "2023-03-18T14:10:47.950463Z",
          "iopub.status.idle": "2023-03-18T14:10:47.970649Z",
          "shell.execute_reply.started": "2023-03-18T14:10:47.950418Z",
          "shell.execute_reply": "2023-03-18T14:10:47.969559Z"
        },
        "trusted": true,
        "id": "jB1C7DsjMKFd"
      },
      "execution_count": null,
      "outputs": []
    },
    {
      "cell_type": "code",
      "source": [
        "df.columns"
      ],
      "metadata": {
        "execution": {
          "iopub.status.busy": "2023-03-18T14:10:47.972028Z",
          "iopub.execute_input": "2023-03-18T14:10:47.972376Z",
          "iopub.status.idle": "2023-03-18T14:10:47.978732Z",
          "shell.execute_reply.started": "2023-03-18T14:10:47.972336Z",
          "shell.execute_reply": "2023-03-18T14:10:47.977903Z"
        },
        "trusted": true,
        "id": "zNJKPkyHMKFd"
      },
      "execution_count": null,
      "outputs": []
    },
    {
      "cell_type": "code",
      "source": [
        "df.isnull().sum()"
      ],
      "metadata": {
        "execution": {
          "iopub.status.busy": "2023-03-18T14:10:47.979793Z",
          "iopub.execute_input": "2023-03-18T14:10:47.980623Z",
          "iopub.status.idle": "2023-03-18T14:10:47.994732Z",
          "shell.execute_reply.started": "2023-03-18T14:10:47.980583Z",
          "shell.execute_reply": "2023-03-18T14:10:47.993392Z"
        },
        "trusted": true,
        "id": "jeFfbKPHMKFd"
      },
      "execution_count": null,
      "outputs": []
    },
    {
      "cell_type": "code",
      "source": [
        "df['mood'].value_counts()"
      ],
      "metadata": {
        "execution": {
          "iopub.status.busy": "2023-03-18T14:10:47.99669Z",
          "iopub.execute_input": "2023-03-18T14:10:47.997567Z",
          "iopub.status.idle": "2023-03-18T14:10:48.009743Z",
          "shell.execute_reply.started": "2023-03-18T14:10:47.997515Z",
          "shell.execute_reply": "2023-03-18T14:10:48.008803Z"
        },
        "trusted": true,
        "id": "h4md_lQXMKFd"
      },
      "execution_count": null,
      "outputs": []
    },
    {
      "cell_type": "code",
      "source": [
        "df['genre'].value_counts()"
      ],
      "metadata": {
        "execution": {
          "iopub.status.busy": "2023-03-18T14:10:48.011183Z",
          "iopub.execute_input": "2023-03-18T14:10:48.01161Z",
          "iopub.status.idle": "2023-03-18T14:10:48.025987Z",
          "shell.execute_reply.started": "2023-03-18T14:10:48.011544Z",
          "shell.execute_reply": "2023-03-18T14:10:48.025032Z"
        },
        "trusted": true,
        "id": "scXpAprXMKFd"
      },
      "execution_count": null,
      "outputs": []
    },
    {
      "cell_type": "code",
      "source": [
        "df['maturity_rating'].value_counts()"
      ],
      "metadata": {
        "execution": {
          "iopub.status.busy": "2023-03-18T14:10:48.027336Z",
          "iopub.execute_input": "2023-03-18T14:10:48.02837Z",
          "iopub.status.idle": "2023-03-18T14:10:48.036209Z",
          "shell.execute_reply.started": "2023-03-18T14:10:48.028333Z",
          "shell.execute_reply": "2023-03-18T14:10:48.03528Z"
        },
        "trusted": true,
        "id": "IvSgTVSOMKFe"
      },
      "execution_count": null,
      "outputs": []
    },
    {
      "cell_type": "code",
      "source": [
        "df['release_year'].value_counts()"
      ],
      "metadata": {
        "execution": {
          "iopub.status.busy": "2023-03-18T14:10:48.039212Z",
          "iopub.execute_input": "2023-03-18T14:10:48.040084Z",
          "iopub.status.idle": "2023-03-18T14:10:48.047162Z",
          "shell.execute_reply.started": "2023-03-18T14:10:48.040048Z",
          "shell.execute_reply": "2023-03-18T14:10:48.04628Z"
        },
        "trusted": true,
        "id": "1aEYWa7YMKFe"
      },
      "execution_count": null,
      "outputs": []
    },
    {
      "cell_type": "code",
      "source": [
        "df['duration'].value_counts()"
      ],
      "metadata": {
        "execution": {
          "iopub.status.busy": "2023-03-18T14:10:48.048611Z",
          "iopub.execute_input": "2023-03-18T14:10:48.049252Z",
          "iopub.status.idle": "2023-03-18T14:10:48.063317Z",
          "shell.execute_reply.started": "2023-03-18T14:10:48.049215Z",
          "shell.execute_reply": "2023-03-18T14:10:48.062293Z"
        },
        "trusted": true,
        "id": "tYlsjs26MKFe"
      },
      "execution_count": null,
      "outputs": []
    },
    {
      "cell_type": "markdown",
      "source": [
        "* Plotting"
      ],
      "metadata": {
        "id": "RcZ4LiL2MKFe"
      }
    },
    {
      "cell_type": "code",
      "source": [
        "#top moods\n",
        "x=['Exciting','Emotional','Adrenaline Rush','Heartfelt','Goofy','Feel-Good','Suspenseful','Goofy','Violent','Witty']\n",
        "y=  [90,39,32,25,24,19,19,17,17,15]\n",
        "plt.barh(x,y,color=\"y\")\n",
        "plt.title(\"Top moods in netflix\")\n",
        "plt.xlabel(\"mood\")\n",
        "plt.ylabel(\"shows\")\n",
        "plt.show()"
      ],
      "metadata": {
        "execution": {
          "iopub.status.busy": "2023-03-18T14:10:48.064774Z",
          "iopub.execute_input": "2023-03-18T14:10:48.065231Z",
          "iopub.status.idle": "2023-03-18T14:10:48.297911Z",
          "shell.execute_reply.started": "2023-03-18T14:10:48.065196Z",
          "shell.execute_reply": "2023-03-18T14:10:48.29689Z"
        },
        "trusted": true,
        "id": "Fzdqt5T1MKFe"
      },
      "execution_count": null,
      "outputs": []
    },
    {
      "cell_type": "code",
      "source": [
        "# years with most netflix shows released_year\n",
        "x= ['2022','2021','2020','2018','2011','2013','2019','2016','2015','2010']\n",
        "y= [160,63,35,32,30,28,22,20,20,15]\n",
        "plt.bar(x,y,color=\"y\",width=0.7)\n",
        "plt.title(\"Years with most netflix shows released_year\")\n",
        "plt.xlabel(\"Year\")\n",
        "plt.ylabel(\"shows released\")\n",
        "plt.show"
      ],
      "metadata": {
        "execution": {
          "iopub.status.busy": "2023-03-18T14:10:48.299165Z",
          "iopub.execute_input": "2023-03-18T14:10:48.299497Z",
          "iopub.status.idle": "2023-03-18T14:10:48.595528Z",
          "shell.execute_reply.started": "2023-03-18T14:10:48.299459Z",
          "shell.execute_reply": "2023-03-18T14:10:48.594338Z"
        },
        "trusted": true,
        "id": "dmgNhZAvMKFe"
      },
      "execution_count": null,
      "outputs": []
    },
    {
      "cell_type": "code",
      "source": [],
      "metadata": {
        "id": "vr9UFsruMKFe"
      },
      "execution_count": null,
      "outputs": []
    }
  ]
}